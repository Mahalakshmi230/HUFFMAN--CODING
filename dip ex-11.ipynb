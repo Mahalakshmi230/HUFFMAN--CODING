{
 "cells": [
  {
   "cell_type": "markdown",
   "id": "eb6fa852",
   "metadata": {},
   "source": [
    "## Ex.no:11 Implementation of Huffman Coding\n",
    "\n",
    "### Name: Mahalakshmi R\n",
    "### Regno: 212223230116"
   ]
  },
  {
   "cell_type": "code",
   "execution_count": 1,
   "id": "ab63108b",
   "metadata": {},
   "outputs": [],
   "source": [
    "# Step 1: Get the input string\n",
    "input_string = \"Mahalakshmi\""
   ]
  },
  {
   "cell_type": "code",
   "execution_count": 2,
   "id": "04abd1a5",
   "metadata": {},
   "outputs": [],
   "source": [
    "# Step 2: Calculate frequency of each character in the input string\n",
    "frequency = {}\n",
    "for char in input_string:\n",
    "    if char in frequency:\n",
    "        frequency[char] += 1\n",
    "    else:\n",
    "        frequency[char] = 1"
   ]
  },
  {
   "cell_type": "code",
   "execution_count": 3,
   "id": "9930a161",
   "metadata": {},
   "outputs": [],
   "source": [
    "# Step 3: Create tree nodes\n",
    "nodes = [[char, freq] for char, freq in frequency.items()]"
   ]
  },
  {
   "cell_type": "code",
   "execution_count": 4,
   "id": "05668833",
   "metadata": {},
   "outputs": [],
   "source": [
    "# Step 4: Main function to implement Huffman coding\n",
    "while len(nodes) > 1:\n",
    "    # Sort nodes based on frequency\n",
    "    nodes = sorted(nodes, key=lambda x: x[1])\n",
    "\n",
    "    # Pick two smallest nodes\n",
    "    left = nodes.pop(0)\n",
    "    right = nodes.pop(0)\n",
    "\n",
    "    # Create a new node with combined frequency\n",
    "    new_node = [[left, right], left[1] + right[1]]\n",
    "    nodes.append(new_node)\n",
    "\n",
    "# The final node is the Huffman tree\n",
    "huffman_tree = nodes[0]"
   ]
  },
  {
   "cell_type": "code",
   "execution_count": 5,
   "id": "6ac1635c",
   "metadata": {},
   "outputs": [],
   "source": [
    "# Step 5: Generate Huffman codes\n",
    "huffman_codes = {}\n",
    "\n",
    "def generate_codes(tree, code=\"\"):\n",
    "    if isinstance(tree[0], str):  # If it's a leaf node\n",
    "        huffman_codes[tree[0]] = code\n",
    "    else:  # If it's an internal node, recurse\n",
    "        generate_codes(tree[0][0], code + \"0\")\n",
    "        generate_codes(tree[0][1], code + \"1\")\n",
    "\n",
    "generate_codes(huffman_tree)"
   ]
  },
  {
   "cell_type": "code",
   "execution_count": 6,
   "id": "e9ffe78b",
   "metadata": {},
   "outputs": [
    {
     "name": "stdout",
     "output_type": "stream",
     "text": [
      "Character | Huffman Code\n",
      "-------------------------\n",
      "    k    |    000\n",
      "    s    |    001\n",
      "    m    |    010\n",
      "    i    |    011\n",
      "    a    |    10\n",
      "    h    |    110\n",
      "    M    |    1110\n",
      "    l    |    1111\n"
     ]
    }
   ],
   "source": [
    "# Step 6: Print the characters and their Huffman codes\n",
    "print(\"Character | Huffman Code\")\n",
    "print(\"-------------------------\")\n",
    "for char, code in huffman_codes.items():\n",
    "    print(f\"    {char}    |    {code}\")"
   ]
  },
  {
   "cell_type": "code",
   "execution_count": null,
   "id": "4113640c",
   "metadata": {},
   "outputs": [],
   "source": []
  }
 ],
 "metadata": {
  "kernelspec": {
   "display_name": "Python 3 (ipykernel)",
   "language": "python",
   "name": "python3"
  },
  "language_info": {
   "codemirror_mode": {
    "name": "ipython",
    "version": 3
   },
   "file_extension": ".py",
   "mimetype": "text/x-python",
   "name": "python",
   "nbconvert_exporter": "python",
   "pygments_lexer": "ipython3",
   "version": "3.11.3"
  }
 },
 "nbformat": 4,
 "nbformat_minor": 5
}
